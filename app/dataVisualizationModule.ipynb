{
 "cells": [
  {
   "cell_type": "markdown",
   "metadata": {},
   "source": [
    "Commands for installing dependencies for windows with pip and conda\n",
    "\n",
    "| package manager | package name | command |\n",
    "| :------ | :------ | :------ |\n",
    "| pip | numpy | pip install numpy |\n",
    "| conda | numpy | conda install numpy |\n",
    "| pip | pandas | pip install pandas |\n",
    "| conda | pandas | conda install pandas |\n",
    "| pip | matplotlib | pip install matplotlib |\n",
    "| conda | matplotlib | conda install matplotlib |\n",
    "| pip | seaborn | pip install seaborn |\n",
    "| conda | seaborn | conda install seaborn |\n",
    "| pip | plotly | pip install plotly |\n",
    "| conda | plotly | conda install plotly |\n"
   ]
  },
  {
   "cell_type": "markdown",
   "metadata": {},
   "source": [
    "*Class structure*\n",
    "\n",
    "```\n",
    "dataVisualization (base class)\n",
    "    |\n",
    "    +-- plainPlot (derived class for plain histograms)\n",
    "    |\n",
    "    +-- plainComparisonPlot (derived class for comparison histograms for nutrient groups)\n",
    "    |\n",
    "    +-- comparisonWithStandardPlot (derived class for comparison of nutrients with daily safe values)\n",
    "    |\n",
    "    +-- constituentComparisonPlot (derived calss for constituent percentage visualization(pie chart) )\n",
    "```"
   ]
  },
  {
   "cell_type": "code",
   "execution_count": 35,
   "metadata": {},
   "outputs": [],
   "source": [
    "import pandas as pd\n",
    "import seaborn as sb\n",
    "import plotly as ptly\n",
    "import matplotlib.pyplot as plt\n",
    "#from databaseModule import menuSource\n",
    "\n",
    "class dataVisualization:\n",
    "    def __init__(self):\n",
    "        self.pyplot = plt\n",
    "        self.seaborn = sb\n",
    "        self.plotly = ptly\n",
    "        #self.datasource = ds"
   ]
  },
  {
   "cell_type": "code",
   "execution_count": null,
   "metadata": {},
   "outputs": [],
   "source": [
    "class plainPlot(dataVisualization):\n",
    "    def __init__(self):\n",
    "        dataVisualization.__init__(self)"
   ]
  },
  {
   "cell_type": "code",
   "execution_count": null,
   "metadata": {},
   "outputs": [],
   "source": [
    "class plainComparisonPlot(dataVisualization):\n",
    "    def __init__(self):\n",
    "        dataVisualization.__init__(self)"
   ]
  },
  {
   "cell_type": "code",
   "execution_count": null,
   "metadata": {},
   "outputs": [],
   "source": [
    "class comparisonWithStandardPlot(dataVisualization):\n",
    "    def __init__(self):\n",
    "        dataVisualization.__init__(self)"
   ]
  },
  {
   "cell_type": "code",
   "execution_count": null,
   "metadata": {},
   "outputs": [],
   "source": [
    "class constituentComparisonPlot(dataVisualization):\n",
    "    def __init__(self):\n",
    "        dataVisualization.__init__(self)"
   ]
  }
 ],
 "metadata": {
  "kernelspec": {
   "display_name": "Python 3",
   "language": "python",
   "name": "python3"
  },
  "language_info": {
   "codemirror_mode": {
    "name": "ipython",
    "version": 3
   },
   "file_extension": ".py",
   "mimetype": "text/x-python",
   "name": "python",
   "nbconvert_exporter": "python",
   "pygments_lexer": "ipython3",
   "version": "3.7.3"
  }
 },
 "nbformat": 4,
 "nbformat_minor": 2
}
